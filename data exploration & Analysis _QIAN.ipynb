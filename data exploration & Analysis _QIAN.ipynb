{
 "cells": [
  {
   "cell_type": "code",
   "execution_count": 50,
   "id": "ed751ea9",
   "metadata": {},
   "outputs": [
    {
     "name": "stdout",
     "output_type": "stream",
     "text": [
      "Collecting seaborn\n",
      "  Downloading seaborn-0.13.2-py3-none-any.whl.metadata (5.4 kB)\n",
      "Requirement already satisfied: numpy!=1.24.0,>=1.20 in c:\\users\\qfu88\\anaconda3\\envs\\birdnet-py311\\lib\\site-packages (from seaborn) (1.26.4)\n",
      "Requirement already satisfied: pandas>=1.2 in c:\\users\\qfu88\\anaconda3\\envs\\birdnet-py311\\lib\\site-packages (from seaborn) (2.2.3)\n",
      "Requirement already satisfied: matplotlib!=3.6.1,>=3.4 in c:\\users\\qfu88\\anaconda3\\envs\\birdnet-py311\\lib\\site-packages (from seaborn) (3.10.3)\n",
      "Requirement already satisfied: contourpy>=1.0.1 in c:\\users\\qfu88\\anaconda3\\envs\\birdnet-py311\\lib\\site-packages (from matplotlib!=3.6.1,>=3.4->seaborn) (1.3.2)\n",
      "Requirement already satisfied: cycler>=0.10 in c:\\users\\qfu88\\anaconda3\\envs\\birdnet-py311\\lib\\site-packages (from matplotlib!=3.6.1,>=3.4->seaborn) (0.12.1)\n",
      "Requirement already satisfied: fonttools>=4.22.0 in c:\\users\\qfu88\\anaconda3\\envs\\birdnet-py311\\lib\\site-packages (from matplotlib!=3.6.1,>=3.4->seaborn) (4.58.0)\n",
      "Requirement already satisfied: kiwisolver>=1.3.1 in c:\\users\\qfu88\\anaconda3\\envs\\birdnet-py311\\lib\\site-packages (from matplotlib!=3.6.1,>=3.4->seaborn) (1.4.8)\n",
      "Requirement already satisfied: packaging>=20.0 in c:\\users\\qfu88\\anaconda3\\envs\\birdnet-py311\\lib\\site-packages (from matplotlib!=3.6.1,>=3.4->seaborn) (25.0)\n",
      "Requirement already satisfied: pillow>=8 in c:\\users\\qfu88\\anaconda3\\envs\\birdnet-py311\\lib\\site-packages (from matplotlib!=3.6.1,>=3.4->seaborn) (11.2.1)\n",
      "Requirement already satisfied: pyparsing>=2.3.1 in c:\\users\\qfu88\\anaconda3\\envs\\birdnet-py311\\lib\\site-packages (from matplotlib!=3.6.1,>=3.4->seaborn) (3.2.3)\n",
      "Requirement already satisfied: python-dateutil>=2.7 in c:\\users\\qfu88\\anaconda3\\envs\\birdnet-py311\\lib\\site-packages (from matplotlib!=3.6.1,>=3.4->seaborn) (2.9.0.post0)\n",
      "Requirement already satisfied: pytz>=2020.1 in c:\\users\\qfu88\\anaconda3\\envs\\birdnet-py311\\lib\\site-packages (from pandas>=1.2->seaborn) (2025.2)\n",
      "Requirement already satisfied: tzdata>=2022.7 in c:\\users\\qfu88\\anaconda3\\envs\\birdnet-py311\\lib\\site-packages (from pandas>=1.2->seaborn) (2025.2)\n",
      "Requirement already satisfied: six>=1.5 in c:\\users\\qfu88\\anaconda3\\envs\\birdnet-py311\\lib\\site-packages (from python-dateutil>=2.7->matplotlib!=3.6.1,>=3.4->seaborn) (1.17.0)\n",
      "Downloading seaborn-0.13.2-py3-none-any.whl (294 kB)\n",
      "Installing collected packages: seaborn\n",
      "Successfully installed seaborn-0.13.2\n"
     ]
    },
    {
     "name": "stderr",
     "output_type": "stream",
     "text": [
      "\n",
      "[notice] A new release of pip is available: 25.1 -> 25.1.1\n",
      "[notice] To update, run: python.exe -m pip install --upgrade pip\n"
     ]
    }
   ],
   "source": [
    "!pip install seaborn\n"
   ]
  },
  {
   "cell_type": "code",
   "execution_count": 51,
   "id": "54c1cb93",
   "metadata": {},
   "outputs": [],
   "source": [
    "import pandas as pd\n",
    "import matplotlib.pyplot as plt\n",
    "import ast\n",
    "import seaborn as sns\n"
   ]
  },
  {
   "cell_type": "code",
   "execution_count": 35,
   "id": "8a85a6ca",
   "metadata": {},
   "outputs": [],
   "source": [
    "df = pd.read_csv(r\"C:\\Users\\qfu88\\Desktop\\KwF\\Bioacoustics-analysis\\Datas\\combined.csv\")"
   ]
  },
  {
   "cell_type": "code",
   "execution_count": 36,
   "id": "f07ff85d",
   "metadata": {},
   "outputs": [
    {
     "name": "stdout",
     "output_type": "stream",
     "text": [
      "<class 'pandas.core.frame.DataFrame'>\n",
      "RangeIndex: 634921 entries, 0 to 634920\n",
      "Data columns (total 31 columns):\n",
      " #   Column                Non-Null Count   Dtype  \n",
      "---  ------                --------------   -----  \n",
      " 0   clip_name             634921 non-null  object \n",
      " 1   Recorder              634921 non-null  object \n",
      " 2   Timestamp             634921 non-null  object \n",
      " 3   Duration (sec)        634921 non-null  float64\n",
      " 4   Sample Rate (Hz)      634921 non-null  int64  \n",
      " 5   Channels              634921 non-null  int64  \n",
      " 6   Bit Depth             634921 non-null  int64  \n",
      " 7   File Size (KB)        634921 non-null  float64\n",
      " 8   Battery Voltage       634921 non-null  object \n",
      " 9   Gain                  634921 non-null  object \n",
      " 10  Spectral Centroid     634921 non-null  float64\n",
      " 11  Zero Crossing Rate    634921 non-null  float64\n",
      " 12  Human Activity        634921 non-null  object \n",
      " 13  Human Activity Score  634921 non-null  float64\n",
      " 14  start                 634921 non-null  float64\n",
      " 15  end                   634921 non-null  float64\n",
      " 16  species               634921 non-null  object \n",
      " 17  confidence            634921 non-null  object \n",
      " 18  Sim Type              634921 non-null  object \n",
      " 19  Sim Relative Time     634921 non-null  object \n",
      " 20  Datetime              634921 non-null  object \n",
      " 21  Temperature           634921 non-null  float64\n",
      " 22  Windspeed             634921 non-null  float64\n",
      " 23  Precipitation         634921 non-null  float64\n",
      " 24  Humidity              634921 non-null  int64  \n",
      " 25  Weathercode           634921 non-null  int64  \n",
      " 26  Weather Desc          634921 non-null  object \n",
      " 27  Timestamp Local       634921 non-null  object \n",
      " 28  Sunrise               634921 non-null  object \n",
      " 29  Sunset                634921 non-null  object \n",
      " 30  Time Of Day           634921 non-null  object \n",
      "dtypes: float64(10), int64(5), object(16)\n",
      "memory usage: 150.2+ MB\n"
     ]
    }
   ],
   "source": [
    "df.info()"
   ]
  },
  {
   "cell_type": "markdown",
   "id": "0307aa0a",
   "metadata": {},
   "source": [
    "## Data Cleaning"
   ]
  },
  {
   "cell_type": "code",
   "execution_count": 37,
   "id": "6c37b90c",
   "metadata": {},
   "outputs": [
    {
     "name": "stdout",
     "output_type": "stream",
     "text": [
      "['Sample Rate (Hz)', 'Channels', 'Bit Depth', 'Battery Voltage', 'Gain', 'start']\n"
     ]
    }
   ],
   "source": [
    "## drop the cols that only have one unique value\n",
    "\n",
    "cols_to_drop = [col for col in df.columns if df[col].nunique() == 1]\n",
    "\n",
    "print(cols_to_drop)"
   ]
  },
  {
   "cell_type": "code",
   "execution_count": 38,
   "id": "1e3b8e44",
   "metadata": {},
   "outputs": [],
   "source": [
    "## I don't want to only drop \"start\", so I keep it for now\n",
    "\n",
    "df = df.drop(columns= ['Sample Rate (Hz)','Channels','Bit Depth', 'Battery Voltage', 'Gain'])"
   ]
  },
  {
   "cell_type": "markdown",
   "id": "a7a43c10",
   "metadata": {},
   "source": [
    "## Feature Based Exploration\n",
    "\n",
    "I plan to conduct several analyses to answer specific questions. \n",
    "For each question, I will first explore the features (columns) relevant to that question. \n",
    "For example, if a question involves environmental conditions and bird activity, I will begin by exploring those related features. \n",
    "After the initial exploration, I will dive deeper to perform targeted analysis and draw conclusions based on the findings.\n"
   ]
  },
  {
   "cell_type": "markdown",
   "id": "6e7311e5",
   "metadata": {},
   "source": [
    "### EXploring Environmental Conditions VS Bird Species Confidence\n",
    "\n",
    "Questions I can answer like:\n",
    "\n",
    "1, Which weather conditions lead to the highest confidence in species detection?\n",
    "\n",
    "2, Do certain bird species get detected more confidently during specific weather conditions?\n",
    "\n",
    "3, Is there a pattern between windspeed or temperature and detection confidence for active species?"
   ]
  },
  {
   "cell_type": "markdown",
   "id": "e1be40ba",
   "metadata": {},
   "source": [
    "**key Features involved: confidence, species, Temperature, Windspeed, Weather_Desc, Human Activity and score. **"
   ]
  },
  {
   "cell_type": "markdown",
   "id": "9046ed63",
   "metadata": {},
   "source": [
    "#### Feature One: Confidence"
   ]
  },
  {
   "cell_type": "code",
   "execution_count": 39,
   "id": "a9408c8d",
   "metadata": {},
   "outputs": [],
   "source": [
    "## first, filter out the clips that have no detection confidence \n",
    "\n",
    "df_con = df[df['confidence'] != '[]']"
   ]
  },
  {
   "cell_type": "code",
   "execution_count": 40,
   "id": "14965a7b",
   "metadata": {},
   "outputs": [
    {
     "data": {
      "text/html": [
       "<div>\n",
       "<style scoped>\n",
       "    .dataframe tbody tr th:only-of-type {\n",
       "        vertical-align: middle;\n",
       "    }\n",
       "\n",
       "    .dataframe tbody tr th {\n",
       "        vertical-align: top;\n",
       "    }\n",
       "\n",
       "    .dataframe thead th {\n",
       "        text-align: right;\n",
       "    }\n",
       "</style>\n",
       "<table border=\"1\" class=\"dataframe\">\n",
       "  <thead>\n",
       "    <tr style=\"text-align: right;\">\n",
       "      <th></th>\n",
       "      <th>confidence</th>\n",
       "    </tr>\n",
       "  </thead>\n",
       "  <tbody>\n",
       "    <tr>\n",
       "      <th>634717</th>\n",
       "      <td>[0.9083453]</td>\n",
       "    </tr>\n",
       "    <tr>\n",
       "      <th>634718</th>\n",
       "      <td>[0.9631853]</td>\n",
       "    </tr>\n",
       "    <tr>\n",
       "      <th>634727</th>\n",
       "      <td>[0.45411408]</td>\n",
       "    </tr>\n",
       "    <tr>\n",
       "      <th>634735</th>\n",
       "      <td>[0.3463811]</td>\n",
       "    </tr>\n",
       "    <tr>\n",
       "      <th>634741</th>\n",
       "      <td>[0.27142888]</td>\n",
       "    </tr>\n",
       "    <tr>\n",
       "      <th>634750</th>\n",
       "      <td>[0.25755468]</td>\n",
       "    </tr>\n",
       "    <tr>\n",
       "      <th>634787</th>\n",
       "      <td>[0.27244568]</td>\n",
       "    </tr>\n",
       "    <tr>\n",
       "      <th>634797</th>\n",
       "      <td>[0.4235891]</td>\n",
       "    </tr>\n",
       "    <tr>\n",
       "      <th>634798</th>\n",
       "      <td>[0.4276261]</td>\n",
       "    </tr>\n",
       "    <tr>\n",
       "      <th>634855</th>\n",
       "      <td>[0.25457552]</td>\n",
       "    </tr>\n",
       "  </tbody>\n",
       "</table>\n",
       "</div>"
      ],
      "text/plain": [
       "          confidence\n",
       "634717   [0.9083453]\n",
       "634718   [0.9631853]\n",
       "634727  [0.45411408]\n",
       "634735   [0.3463811]\n",
       "634741  [0.27142888]\n",
       "634750  [0.25755468]\n",
       "634787  [0.27244568]\n",
       "634797   [0.4235891]\n",
       "634798   [0.4276261]\n",
       "634855  [0.25457552]"
      ]
     },
     "execution_count": 40,
     "metadata": {},
     "output_type": "execute_result"
    }
   ],
   "source": [
    "##check what's the value look like in confidence \n",
    "df_con[[\"confidence\"]].tail(10)"
   ]
  },
  {
   "cell_type": "code",
   "execution_count": 41,
   "id": "48ca2e9c",
   "metadata": {},
   "outputs": [
    {
     "data": {
      "text/plain": [
       "(109745, 1)"
      ]
     },
     "execution_count": 41,
     "metadata": {},
     "output_type": "execute_result"
    }
   ],
   "source": [
    "df_con[[\"confidence\"]].shape"
   ]
  },
  {
   "cell_type": "code",
   "execution_count": 42,
   "id": "d72c04c0",
   "metadata": {},
   "outputs": [
    {
     "name": "stdout",
     "output_type": "stream",
     "text": [
      "Ratio of clips with confidence scores: 17.28%\n"
     ]
    }
   ],
   "source": [
    "ratio = len(df_con) / len(df)\n",
    "print(f\"Ratio of clips with confidence scores: {ratio:.2%}\")\n"
   ]
  },
  {
   "cell_type": "code",
   "execution_count": null,
   "id": "4db2a844",
   "metadata": {},
   "outputs": [
    {
     "name": "stdout",
     "output_type": "stream",
     "text": [
      "<class 'str'> [0.34153312]\n",
      "<class 'str'> [0.26743847]\n",
      "<class 'str'> [0.2847662]\n",
      "<class 'str'> [0.4635468]\n",
      "<class 'str'> [0.5601822]\n"
     ]
    }
   ],
   "source": [
    "# randomly check raw type and content of a few entries\n",
    "for i in range(5):\n",
    "    print(type(df_con['confidence'].iloc[i]), df_con['confidence'].iloc[i])\n"
   ]
  },
  {
   "cell_type": "code",
   "execution_count": 46,
   "id": "9bac88a2",
   "metadata": {},
   "outputs": [
    {
     "name": "stderr",
     "output_type": "stream",
     "text": [
      "C:\\Users\\qfu88\\AppData\\Local\\Temp\\ipykernel_24544\\1250872818.py:3: SettingWithCopyWarning: \n",
      "A value is trying to be set on a copy of a slice from a DataFrame.\n",
      "Try using .loc[row_indexer,col_indexer] = value instead\n",
      "\n",
      "See the caveats in the documentation: https://pandas.pydata.org/pandas-docs/stable/user_guide/indexing.html#returning-a-view-versus-a-copy\n",
      "  df_con['confidence'] = df_con['confidence'].apply(lambda x: ast.literal_eval(x)[0] if isinstance(x, str) else None)\n"
     ]
    }
   ],
   "source": [
    "##convert string into float\n",
    "\n",
    "df_con['confidence'] = df_con['confidence'].apply(lambda x: ast.literal_eval(x)[0] if isinstance(x, str) else None)"
   ]
  },
  {
   "cell_type": "code",
   "execution_count": null,
   "id": "f34ecf68",
   "metadata": {},
   "outputs": [
    {
     "name": "stdout",
     "output_type": "stream",
     "text": [
      "105    0.341533\n",
      "114    0.267438\n",
      "128    0.284766\n",
      "208    0.463547\n",
      "347    0.560182\n",
      "Name: confidence, dtype: float64\n",
      "float64\n"
     ]
    }
   ],
   "source": [
    "##confirm\n",
    "print(df_con['confidence'].head())\n",
    "print(df_con['confidence'].dtype)\n"
   ]
  },
  {
   "cell_type": "code",
   "execution_count": 48,
   "id": "6a9a7418",
   "metadata": {},
   "outputs": [
    {
     "data": {
      "text/plain": [
       "count    109745.000000\n",
       "mean          0.489202\n",
       "std           0.215822\n",
       "min           0.250000\n",
       "25%           0.311487\n",
       "50%           0.416257\n",
       "75%           0.620633\n",
       "max           1.000000\n",
       "Name: confidence, dtype: float64"
      ]
     },
     "execution_count": 48,
     "metadata": {},
     "output_type": "execute_result"
    }
   ],
   "source": [
    "##check the distribution\n",
    "df_con['confidence'].describe()"
   ]
  },
  {
   "cell_type": "code",
   "execution_count": 52,
   "id": "377bbc9f",
   "metadata": {},
   "outputs": [
    {
     "data": {
      "image/png": "[encoded data removed]",
      "text/plain": [
       "<Figure size 1000x600 with 1 Axes>"
      ]
     },
     "metadata": {},
     "output_type": "display_data"
    }
   ],
   "source": [
    "#visulize the distribution\n",
    "\n",
    "sns.set(style=\"whitegrid\")\n",
    "\n",
    "# Plot the distribution\n",
    "plt.figure(figsize=(10, 6))\n",
    "sns.histplot(df_con['confidence'], bins=50, kde=True, color=\"skyblue\")\n",
    "plt.title(\"Distribution of BirdNET Confidence Scores\")\n",
    "plt.xlabel(\"Confidence Score\")\n",
    "plt.ylabel(\"Number of Clips\")\n",
    "plt.show()\n"
   ]
  },
  {
   "cell_type": "markdown",
   "id": "b0509e64",
   "metadata": {},
   "source": [
    "#### Feature Two: species. "
   ]
  },
  {
   "cell_type": "code",
   "execution_count": 53,
   "id": "314ac6b2",
   "metadata": {},
   "outputs": [
    {
     "name": "stdout",
     "output_type": "stream",
     "text": [
      "Species Summary\n",
      "count                                         109745\n",
      "unique                                          1027\n",
      "top       ['Pulsatrix perspicillata_Spectacled Owl']\n",
      "freq                                           16577\n",
      "Name: species, dtype: object\n"
     ]
    }
   ],
   "source": [
    "## check basic info\n",
    "print(\"Species Summary\")\n",
    "print(df_con['species'].describe())\n"
   ]
  },
  {
   "cell_type": "code",
   "execution_count": 54,
   "id": "7efa1e9c",
   "metadata": {},
   "outputs": [
    {
     "data": {
      "text/plain": [
       "species\n",
       "False    109745\n",
       "Name: count, dtype: int64"
      ]
     },
     "execution_count": 54,
     "metadata": {},
     "output_type": "execute_result"
    }
   ],
   "source": [
    "## checking for missing or invalid species values\n",
    "\n",
    "df_con['species'].apply(lambda x: not isinstance(x, str) or x.strip() == '').value_counts()\n"
   ]
  },
  {
   "cell_type": "code",
   "execution_count": 56,
   "id": "d1c6f980",
   "metadata": {},
   "outputs": [
    {
     "name": "stdout",
     "output_type": "stream",
     "text": [
      "<class 'str'> ['Hylophylax naevioides_Spotted Antbird']\n",
      "<class 'str'> ['Mionectes olivaceus_Olive-striped Flycatcher']\n",
      "<class 'str'> ['Mionectes olivaceus_Olive-striped Flycatcher']\n",
      "<class 'str'> ['Malacoptila panamensis_White-whiskered Puffbird']\n",
      "<class 'str'> ['Thamnophilus bridgesi_Black-hooded Antshrike']\n"
     ]
    }
   ],
   "source": [
    "#inspect a few clips \n",
    "\n",
    "for i in range(5):\n",
    "    print(type(df_con['species'].iloc[i]), df_con['species'].iloc[i])\n"
   ]
  },
  {
   "cell_type": "code",
   "execution_count": 57,
   "id": "4641f084",
   "metadata": {},
   "outputs": [
    {
     "name": "stderr",
     "output_type": "stream",
     "text": [
      "C:\\Users\\qfu88\\AppData\\Local\\Temp\\ipykernel_24544\\3303309375.py:3: SettingWithCopyWarning: \n",
      "A value is trying to be set on a copy of a slice from a DataFrame.\n",
      "Try using .loc[row_indexer,col_indexer] = value instead\n",
      "\n",
      "See the caveats in the documentation: https://pandas.pydata.org/pandas-docs/stable/user_guide/indexing.html#returning-a-view-versus-a-copy\n",
      "  df_con['species'] = df_con['species'].apply(lambda x: ast.literal_eval(x)[0] if isinstance(x, str) else None)\n"
     ]
    }
   ],
   "source": [
    "#convert stringified list to a plain string \n",
    "\n",
    "df_con['species'] = df_con['species'].apply(lambda x: ast.literal_eval(x)[0] if isinstance(x, str) else None)"
   ]
  },
  {
   "cell_type": "code",
   "execution_count": 58,
   "id": "dd1c48cd",
   "metadata": {},
   "outputs": [
    {
     "name": "stdout",
     "output_type": "stream",
     "text": [
      "105              Hylophylax naevioides_Spotted Antbird\n",
      "114       Mionectes olivaceus_Olive-striped Flycatcher\n",
      "128       Mionectes olivaceus_Olive-striped Flycatcher\n",
      "208    Malacoptila panamensis_White-whiskered Puffbird\n",
      "347       Thamnophilus bridgesi_Black-hooded Antshrike\n",
      "Name: species, dtype: object\n",
      "object\n"
     ]
    }
   ],
   "source": [
    "#confirm\n",
    "print(df_con['species'].head())\n",
    "print(df_con['species'].dtype)\n"
   ]
  },
  {
   "cell_type": "code",
   "execution_count": 60,
   "id": "481a8594",
   "metadata": {},
   "outputs": [
    {
     "name": "stdout",
     "output_type": "stream",
     "text": [
      "species\n",
      "Ciccaba nigrolineata_Black-and-white Owl           24998\n",
      "Pulsatrix perspicillata_Spectacled Owl             17820\n",
      "Lophostrix cristata_Crested Owl                    10000\n",
      "Myiothlypis fulvicauda_Buff-rumped Warbler          9283\n",
      "Habia atrimaxillaris_Black-cheeked Ant-Tanager      7663\n",
      "Myiornis atricapillus_Black-capped Pygmy-Tyrant     4584\n",
      "Thamnophilus bridgesi_Black-hooded Antshrike        2656\n",
      "Patagioenas nigrirostris_Short-billed Pigeon        2449\n",
      "Microrhopias quixensis_Dot-winged Antwren           2419\n",
      "Tinamus major_Great Tinamou                         2219\n",
      "Name: count, dtype: int64\n"
     ]
    }
   ],
   "source": [
    "# get the top 10 species\n",
    "top_species = df_con['species'].value_counts().head(10)\n",
    "print(top_species)"
   ]
  },
  {
   "cell_type": "code",
   "execution_count": null,
   "id": "2174dcf9",
   "metadata": {},
   "outputs": [
    {
     "data": {
      "image/png": "[encoded data removed]",
      "text/plain": [
       "<Figure size 1000x600 with 1 Axes>"
      ]
     },
     "metadata": {},
     "output_type": "display_data"
    }
   ],
   "source": [
    "#plot top 10 species\n",
    "\n",
    "plt.figure(figsize=(10, 6))\n",
    "top_species.plot(kind='barh', color='skyblue')\n",
    "plt.xlabel(\"Number of Clips\")\n",
    "plt.ylabel(\"Species\")\n",
    "plt.title(\"Top 10 Most Detected Bird Species\")\n",
    "plt.gca().invert_yaxis()  \n",
    "plt.tight_layout()\n",
    "plt.show()"
   ]
  },
  {
   "cell_type": "markdown",
   "id": "4549cb72",
   "metadata": {},
   "source": [
    "#### Feature Three: Weather_Desc"
   ]
  },
  {
   "cell_type": "code",
   "execution_count": 63,
   "id": "aa09535a",
   "metadata": {},
   "outputs": [
    {
     "data": {
      "text/plain": [
       "Index(['clip_name', 'Recorder', 'Timestamp', 'Duration (sec)',\n",
       "       'File Size (KB)', 'Spectral Centroid', 'Zero Crossing Rate',\n",
       "       'Human Activity', 'Human Activity Score', 'start', 'end', 'species',\n",
       "       'confidence', 'Sim Type', 'Sim Relative Time', 'Datetime',\n",
       "       'Temperature', 'Windspeed', 'Precipitation', 'Humidity', 'Weathercode',\n",
       "       'Weather Desc', 'Timestamp Local', 'Sunrise', 'Sunset', 'Time Of Day'],\n",
       "      dtype='object')"
      ]
     },
     "execution_count": 63,
     "metadata": {},
     "output_type": "execute_result"
    }
   ],
   "source": [
    "df_con.columns"
   ]
  },
  {
   "cell_type": "code",
   "execution_count": 64,
   "id": "6c9815bc",
   "metadata": {},
   "outputs": [
    {
     "name": "stdout",
     "output_type": "stream",
     "text": [
      "Weather_Desc Summary\n",
      "count       109745\n",
      "unique           8\n",
      "top       Overcast\n",
      "freq         37877\n",
      "Name: Weather Desc, dtype: object\n"
     ]
    }
   ],
   "source": [
    "#basic info\n",
    "print(\"Weather_Desc Summary\")\n",
    "print(df_con['Weather Desc'].describe())\n"
   ]
  },
  {
   "cell_type": "code",
   "execution_count": 65,
   "id": "b95e41d4",
   "metadata": {},
   "outputs": [
    {
     "data": {
      "text/plain": [
       "Weather Desc\n",
       "Overcast            37877\n",
       "Clear sky           29328\n",
       "Light drizzle       19383\n",
       "Mainly clear        14301\n",
       "Partly cloudy        4949\n",
       "Slight rain          1595\n",
       "Dense drizzle        1458\n",
       "Moderate drizzle      854\n",
       "Name: count, dtype: int64"
      ]
     },
     "execution_count": 65,
     "metadata": {},
     "output_type": "execute_result"
    }
   ],
   "source": [
    "df_con[\"Weather Desc\"].value_counts()\n"
   ]
  }
 ],
 "metadata": {
  "kernelspec": {
   "display_name": "birdnet-py311",
   "language": "python",
   "name": "python3"
  },
  "language_info": {
   "codemirror_mode": {
    "name": "ipython",
    "version": 3
   },
   "file_extension": ".py",
   "mimetype": "text/x-python",
   "name": "python",
   "nbconvert_exporter": "python",
   "pygments_lexer": "ipython3",
   "version": "3.11.11"
  }
 },
 "nbformat": 4,
 "nbformat_minor": 5
}
