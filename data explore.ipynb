{
 "cells": [
  {
   "cell_type": "code",
   "execution_count": 3,
   "id": "54c1cb93",
   "metadata": {},
   "outputs": [],
   "source": [
    "import pandas as pd"
   ]
  },
  {
   "cell_type": "code",
   "execution_count": 4,
   "id": "8a85a6ca",
   "metadata": {},
   "outputs": [],
   "source": [
    "df = pd.read_csv(r\"C:\\Users\\qfu88\\Desktop\\KwF\\Data Analysis\\Datas\\combined.csv\")"
   ]
  },
  {
   "cell_type": "code",
   "execution_count": 5,
   "id": "f07ff85d",
   "metadata": {},
   "outputs": [
    {
     "name": "stdout",
     "output_type": "stream",
     "text": [
      "<class 'pandas.core.frame.DataFrame'>\n",
      "RangeIndex: 634921 entries, 0 to 634920\n",
      "Data columns (total 31 columns):\n",
      " #   Column                Non-Null Count   Dtype  \n",
      "---  ------                --------------   -----  \n",
      " 0   clip_name             634921 non-null  object \n",
      " 1   Recorder              634921 non-null  object \n",
      " 2   Timestamp             634921 non-null  object \n",
      " 3   Duration (sec)        634921 non-null  float64\n",
      " 4   Sample Rate (Hz)      634921 non-null  int64  \n",
      " 5   Channels              634921 non-null  int64  \n",
      " 6   Bit Depth             634921 non-null  int64  \n",
      " 7   File Size (KB)        634921 non-null  float64\n",
      " 8   Battery Voltage       634921 non-null  object \n",
      " 9   Gain                  634921 non-null  object \n",
      " 10  Spectral Centroid     634921 non-null  float64\n",
      " 11  Zero Crossing Rate    634921 non-null  float64\n",
      " 12  Human Activity        634921 non-null  object \n",
      " 13  Human Activity Score  634921 non-null  float64\n",
      " 14  start                 634921 non-null  float64\n",
      " 15  end                   634921 non-null  float64\n",
      " 16  species               634921 non-null  object \n",
      " 17  confidence            634921 non-null  object \n",
      " 18  Sim Type              634921 non-null  object \n",
      " 19  Sim Relative Time     634921 non-null  object \n",
      " 20  Datetime              634921 non-null  object \n",
      " 21  Temperature           634921 non-null  float64\n",
      " 22  Windspeed             634921 non-null  float64\n",
      " 23  Precipitation         634921 non-null  float64\n",
      " 24  Humidity              634921 non-null  int64  \n",
      " 25  Weathercode           634921 non-null  int64  \n",
      " 26  Weather Desc          634921 non-null  object \n",
      " 27  Timestamp Local       634921 non-null  object \n",
      " 28  Sunrise               634921 non-null  object \n",
      " 29  Sunset                634921 non-null  object \n",
      " 30  Time Of Day           634921 non-null  object \n",
      "dtypes: float64(10), int64(5), object(16)\n",
      "memory usage: 150.2+ MB\n"
     ]
    }
   ],
   "source": [
    "df.info()"
   ]
  },
  {
   "cell_type": "code",
   "execution_count": null,
   "id": "6c37b90c",
   "metadata": {},
   "outputs": [],
   "source": []
  }
 ],
 "metadata": {
  "kernelspec": {
   "display_name": "birdnet-py311",
   "language": "python",
   "name": "python3"
  },
  "language_info": {
   "codemirror_mode": {
    "name": "ipython",
    "version": 3
   },
   "file_extension": ".py",
   "mimetype": "text/x-python",
   "name": "python",
   "nbconvert_exporter": "python",
   "pygments_lexer": "ipython3",
   "version": "3.11.11"
  }
 },
 "nbformat": 4,
 "nbformat_minor": 5
}
